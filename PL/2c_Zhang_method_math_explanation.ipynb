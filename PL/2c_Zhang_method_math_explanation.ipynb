{
 "cells": [
  {
   "cell_type": "code",
   "execution_count": null,
   "metadata": {},
   "outputs": [],
   "source": [
    "from IPython.display import Image"
   ]
  },
  {
   "cell_type": "markdown",
   "metadata": {},
   "source": [
    "### Singular Value Decomposition\n",
    "\n",
    "todo\n"
   ]
  },
  {
   "cell_type": "markdown",
   "metadata": {},
   "source": [
    "### Direct Linear Transformation - oblicza macierze K, R i T ale punkty kontrolne NIE MOGĄ należeć do jednej płaszczyzny.\n",
    "(Polecam obejrzeć wyjaśnienie Cyrila Stachnissa: https://www.youtube.com/watch?v=3NcQbZu6xt8)\n",
    "\n",
    "Dane:\n",
    "    - co chcemy obliczyć? Parametry wewnętrzne i zewnętrzne kamery\n",
    "    - co jest dane: współrzędne 3D punktów kontrolych (narożniki szachownicy) oaz współrzędne 2D tych punktów na obrazie\n",
    "\n",
    "\n",
    "Direct Linear Transformation (DLT) - mapuje jakikowiek punkt 3D do punktu 2D na płaszczyznie obrazu. Jeśli zakłądamy idealną soczewkę (bez zniekształceń) i tylko 11 nieznanych parametrów, to może być obliczona przy min. 6 punktach kontrolnych."
   ]
  },
  {
   "cell_type": "code",
   "execution_count": null,
   "metadata": {},
   "outputs": [],
   "source": [
    "# source: https://www.youtube.com/watch?v=3NcQbZu6xt8\n",
    "Image(filename=\".././images/2_4.png\", width=600)"
   ]
  },
  {
   "cell_type": "markdown",
   "metadata": {},
   "source": [
    "### Metoda Zhanga - obliczanie tylko parametrów wewnętrznych\n",
    "### source todo: https://www.youtube.com/watch?v=-9He7Nu3u8s "
   ]
  },
  {
   "cell_type": "markdown",
   "metadata": {},
   "source": []
  }
 ],
 "metadata": {
  "kernelspec": {
   "display_name": "base",
   "language": "python",
   "name": "python3"
  },
  "language_info": {
   "name": "python",
   "version": "3.11.7"
  }
 },
 "nbformat": 4,
 "nbformat_minor": 2
}
