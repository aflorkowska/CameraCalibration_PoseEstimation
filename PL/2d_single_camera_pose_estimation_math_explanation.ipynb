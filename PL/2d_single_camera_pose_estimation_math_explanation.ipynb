{
 "cells": [
  {
   "cell_type": "code",
   "execution_count": 1,
   "metadata": {},
   "outputs": [],
   "source": [
    "from IPython.display import Image"
   ]
  },
  {
   "cell_type": "markdown",
   "metadata": {},
   "source": [
    "### Pose Estimation - obliczenie macierzy rotacji i translacji dla 1 kamery\n",
    "\n",
    "Czasami mamy skalibrowaną kamerę (jej parametry wewnętrzne i współczynniki zniekształceń), ale zmieniliśmy jej położenie. Jeśli znamy położenie obiektów w 3D oraz w 2D (punkty odzniekształcone) możliwe jest obliczenie macierzy rotacji i translacji bez konieczności ponownej kalibracji kamer.\n",
    "\n",
    "Ten problem Perspective-n-Point można rozwiązać na kilka sposoób:\n",
    "- Układy liniowych równań - jeśli punkty są dobrze dobrane\n",
    "- Dekompozycja QP macierzy projekcji - jeśli jest dostępna\n",
    "- Jeśli masz duża liczbę punktów możesz podejśc do problemu iteracyjnie poprzez algorytm Ransac. W każdym kroku wybierać punkty, jeśli punkty nie są współpłaszczyznowe możesz obliczyć macierz projekcji poprzez Direct Linear Transformation, a nastęnie obliczać dopasowanie. Po N iteracjach trzeba wybrać to najlepsze dopasowanie. Następnie rozłożyć na macierze K,R i T. To rozwiązanie wymaga dużej liczby punktów i może być wolne.\n",
    "- Można zastosować metodę nieliniowej optymalizacji np. Levenberga-Marquardta, gdzie dążymy do minimalizacji błędu. Pierwsze wartości macierzy mogą być wyznaczone przez równania liniowe."
   ]
  },
  {
   "cell_type": "markdown",
   "metadata": {},
   "source": []
  }
 ],
 "metadata": {
  "kernelspec": {
   "display_name": "base",
   "language": "python",
   "name": "python3"
  },
  "language_info": {
   "codemirror_mode": {
    "name": "ipython",
    "version": 3
   },
   "file_extension": ".py",
   "mimetype": "text/x-python",
   "name": "python",
   "nbconvert_exporter": "python",
   "pygments_lexer": "ipython3",
   "version": "3.11.7"
  }
 },
 "nbformat": 4,
 "nbformat_minor": 2
}
