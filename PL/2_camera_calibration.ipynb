{
 "cells": [
  {
   "cell_type": "markdown",
   "metadata": {},
   "source": [
    "Kalibracja kamery to proces określenia jej parametrów wewnętrznych i zewnętrznych, które pozwalają na dokładne odwzorowanie trójwymiarowych punktów sceny na dwuwymiarową płaszczyznę obrazu. Jets to kluczowych etap podczas pracy z danymi z czujników, gdyż pozwala skorygować zniekształcenia optyczne a także określić relacje przestrzenne kamery i układu odniesienia świata. \n",
    "\n",
    "Estymowane parametry kamery można podzielić na dwie grupy:\n",
    "- parametry wewnętrzne (intrinsic parameters) K - opisują właściwości optyki i matrycy kamery\n",
    "    - ogniskowa fx i fy\n",
    "    - punktu główny cx i cy\n",
    "    - współczynniki dystorsji optycznej: k1,k2,k3, p1, p2\n",
    "- parametry zewnętrzne (extrinsic parameters) - określają pozycje i orientację kamery w przestrzenii\n",
    "    - macierz rotacji R\n",
    "    - wektor translacji T\n"
   ]
  },
  {
   "cell_type": "markdown",
   "metadata": {},
   "source": []
  }
 ],
 "metadata": {
  "kernelspec": {
   "display_name": "base",
   "language": "python",
   "name": "python3"
  },
  "language_info": {
   "codemirror_mode": {
    "name": "ipython",
    "version": 3
   },
   "file_extension": ".py",
   "mimetype": "text/x-python",
   "name": "python",
   "nbconvert_exporter": "python",
   "pygments_lexer": "ipython3",
   "version": "3.11.7"
  }
 },
 "nbformat": 4,
 "nbformat_minor": 2
}
